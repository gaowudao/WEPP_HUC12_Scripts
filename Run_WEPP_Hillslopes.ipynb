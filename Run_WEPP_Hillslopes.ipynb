{
 "cells": [
  {
   "cell_type": "code",
   "execution_count": 1,
   "metadata": {},
   "outputs": [],
   "source": [
    "import os\n",
    "import pandas\n",
    "import numpy\n",
    "import scipy\n",
    "import subprocess\n",
    "\n",
    "os.chdir('C:\\\\Users\\\\Garner\\\\Soil_Erosion_Project\\\\wepppy-win-bootstrap-master\\\\scripts')\n",
    "\n",
    "model_labels = ['L1','L2','L3','L4','L5','L6',\\\n",
    "                'B1','B2','B3','B4','B5','B6']\n",
    "\n",
    "parent_dir = 'C:\\\\Users\\\\Garner\\\\Soil_Erosion_Project\\\\WEPP_PRWs\\\\GO1_DEP\\\\Runs\\\\DEP_DF_10K\\\\'\n",
    "\n",
    "for mod_lab in model_labels:\n",
    "    wshed_dir = str(parent_dir + mod_lab + '_19\\\\')\n",
    "    os.system('python run_project.py {}'.format(wshed_dir))"
   ]
  }
 ],
 "metadata": {
  "kernelspec": {
   "display_name": "Python 3",
   "language": "python",
   "name": "python3"
  },
  "language_info": {
   "codemirror_mode": {
    "name": "ipython",
    "version": 3
   },
   "file_extension": ".py",
   "mimetype": "text/x-python",
   "name": "python",
   "nbconvert_exporter": "python",
   "pygments_lexer": "ipython3",
   "version": "3.8.5"
  }
 },
 "nbformat": 4,
 "nbformat_minor": 4
}
