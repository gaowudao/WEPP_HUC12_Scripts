{
 "cells": [
  {
   "cell_type": "code",
   "execution_count": 4,
   "metadata": {},
   "outputs": [],
   "source": [
    "import os\n",
    "import pandas as pd\n",
    "import numpy as np\n",
    "\n",
    "scen_dir = 'C:\\\\Users\\\\Garner\\\\Soil_Erosion_Project\\\\WEPP_PRWs\\\\GO1_DEP\\\\Runs\\\\DEP_DF_10K\\\\'\n",
    "\n",
    "\n",
    "def edit_Keff_val(mod_labs, scen_dir, scale_val):\n",
    "\n",
    "    '''\n",
    "    Multiplys the Keff parameter in the .sol input file by a given\n",
    "    scale value for each overland flow element(OFE)\n",
    "\n",
    "    'line 4' = Line that includes the Keff parameter for the OFE. \n",
    "\n",
    "    Each OFE has its own 'line 4'\n",
    "    '''\n",
    "    #loop through climate model labels in scenario directory\n",
    "    for mod in mod_labs:\n",
    "        #Create path to run directory\n",
    "        run_dir = str(scen_dir + mod + '_19' + '\\\\wepp\\\\runs\\\\')\n",
    "\n",
    "        #loop through all input files in directory\n",
    "        for file_name in os.listdir(run_dir):\n",
    "\n",
    "            #select soil files\n",
    "            if file_name.endswith('.sol'):\n",
    "                file = open(str(run_dir+file_name), \"r+\") # read in file \n",
    "                lines = file.readlines()  #read lines to a list\n",
    "\n",
    "                #loop through selected lines in each file\n",
    "                for num, line in enumerate(lines, 0):\n",
    "\n",
    "                    find_key = '0.750000' # Find 'Line 4' for each OFE\n",
    "\n",
    "                    if find_key in line:\n",
    "                        new_line = str(line[:-9] + str(round(float(line[-9::])*scale_val, 6)) + '\\n')\n",
    "                        lines[num] = new_line\n",
    "\n",
    "                # move file pointer to the beginning of a file\n",
    "                file.seek(0)\n",
    "                # truncate the file\n",
    "                file.truncate()\n",
    "\n",
    "                #write new lines\n",
    "                file.writelines(lines)\n",
    "                               \n",
    "                \n",
    "scen_dir = 'C:\\\\Users\\\\Garner\\\\Soil_Erosion_Project\\\\WEPP_PRWs\\\\GO1_DEP\\\\Runs\\\\DEP_DF_10K\\\\'\n",
    "\n",
    "mod_labs = ['L1', 'L2', 'L3', 'L4', 'L5', 'L6',\\\n",
    "            'B1', 'B2', 'B3', 'B4', 'B5', 'B6']\n",
    "\n",
    "edit_Keff_val(mod_labs, scen_dir, 10)"
   ]
  },
  {
   "cell_type": "code",
   "execution_count": null,
   "metadata": {},
   "outputs": [],
   "source": []
  }
 ],
 "metadata": {
  "kernelspec": {
   "display_name": "Python 3",
   "language": "python",
   "name": "python3"
  },
  "language_info": {
   "codemirror_mode": {
    "name": "ipython",
    "version": 3
   },
   "file_extension": ".py",
   "mimetype": "text/x-python",
   "name": "python",
   "nbconvert_exporter": "python",
   "pygments_lexer": "ipython3",
   "version": "3.8.5"
  }
 },
 "nbformat": 4,
 "nbformat_minor": 4
}
